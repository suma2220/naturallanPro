{
  "nbformat": 4,
  "nbformat_minor": 0,
  "metadata": {
    "colab": {
      "provenance": []
    },
    "kernelspec": {
      "name": "python3",
      "display_name": "Python 3"
    },
    "language_info": {
      "name": "python"
    }
  },
  "cells": [
    {
      "cell_type": "code",
      "execution_count": 82,
      "metadata": {
        "id": "PsvCy6-Sg-HP"
      },
      "outputs": [],
      "source": [
        "import re\n",
        "import nltk\n",
        "from nltk.corpus import stopwords\n",
        "from nltk.tokenize import word_tokenize, sent_tokenize\n",
        "from nltk.stem import PorterStemmer, WordNetLemmatizer\n",
        "from nltk import pos_tag, ne_chunk\n"
      ]
    },
    {
      "cell_type": "code",
      "source": [
        "nltk.download('Punkt')\n",
        "nltk.download('stopwords')\n",
        "nltk.download('averaged_perception_tagger')\n",
        "nltk.download('wordnet')\n",
        "nltk.download('maxent_ne_chunker')\n",
        "nltk.download('words')"
      ],
      "metadata": {
        "colab": {
          "base_uri": "https://localhost:8080/"
        },
        "id": "m1tXHEiqhbK1",
        "outputId": "43db764c-2675-401d-cf5f-3b680c21dd10"
      },
      "execution_count": 111,
      "outputs": [
        {
          "output_type": "stream",
          "name": "stderr",
          "text": [
            "[nltk_data] Error loading Punkt: Package 'Punkt' not found in index\n",
            "[nltk_data] Downloading package stopwords to /root/nltk_data...\n",
            "[nltk_data]   Package stopwords is already up-to-date!\n",
            "[nltk_data] Error loading averaged_perception_tagger: Package\n",
            "[nltk_data]     'averaged_perception_tagger' not found in index\n",
            "[nltk_data] Downloading package wordnet to /root/nltk_data...\n",
            "[nltk_data]   Package wordnet is already up-to-date!\n",
            "[nltk_data] Downloading package maxent_ne_chunker to\n",
            "[nltk_data]     /root/nltk_data...\n",
            "[nltk_data]   Unzipping chunkers/maxent_ne_chunker.zip.\n",
            "[nltk_data] Downloading package words to /root/nltk_data...\n",
            "[nltk_data]   Package words is already up-to-date!\n"
          ]
        },
        {
          "output_type": "execute_result",
          "data": {
            "text/plain": [
              "True"
            ]
          },
          "metadata": {},
          "execution_count": 111
        }
      ]
    },
    {
      "cell_type": "code",
      "source": [
        "stemmer=PorterStemmer()"
      ],
      "metadata": {
        "id": "WBMtYFYGiPJ-"
      },
      "execution_count": 112,
      "outputs": []
    },
    {
      "cell_type": "code",
      "source": [
        "stemmer.stem(\"finally\")"
      ],
      "metadata": {
        "colab": {
          "base_uri": "https://localhost:8080/",
          "height": 35
        },
        "id": "hR9ps1-giT26",
        "outputId": "fca1cc26-5961-45e4-9afc-5708a610c1f2"
      },
      "execution_count": 113,
      "outputs": [
        {
          "output_type": "execute_result",
          "data": {
            "text/plain": [
              "'final'"
            ],
            "application/vnd.google.colaboratory.intrinsic+json": {
              "type": "string"
            }
          },
          "metadata": {},
          "execution_count": 113
        }
      ]
    },
    {
      "cell_type": "code",
      "source": [
        "lemmatizer = WordNetLemmatizer()"
      ],
      "metadata": {
        "id": "riXT_D_Nib7L"
      },
      "execution_count": 114,
      "outputs": []
    },
    {
      "cell_type": "code",
      "source": [
        "lemmatizer.lemmatize(\"finally\")"
      ],
      "metadata": {
        "colab": {
          "base_uri": "https://localhost:8080/",
          "height": 35
        },
        "id": "k2rup8k_jEPX",
        "outputId": "d4ab0403-5c9d-4856-9c32-aacf2a87e72d"
      },
      "execution_count": 115,
      "outputs": [
        {
          "output_type": "execute_result",
          "data": {
            "text/plain": [
              "'finally'"
            ],
            "application/vnd.google.colaboratory.intrinsic+json": {
              "type": "string"
            }
          },
          "metadata": {},
          "execution_count": 115
        }
      ]
    },
    {
      "cell_type": "code",
      "source": [
        "text=\"HE IS DANCING AND PLAYING\""
      ],
      "metadata": {
        "id": "Eb7G_S-JinbG"
      },
      "execution_count": 116,
      "outputs": []
    },
    {
      "cell_type": "code",
      "source": [],
      "metadata": {
        "id": "XnLtzdlOjShe"
      },
      "execution_count": 116,
      "outputs": []
    },
    {
      "cell_type": "code",
      "source": [
        "def lowercase_text(text):\n",
        "  return text.lower()\n",
        "def remove_punctuation(text):\n",
        "  return re.sub(r'[^\\W\\S]', '',text)\n",
        "def tokenize_text(text):\n",
        "  return nltk.word_tokenize(text)\n",
        "def remove_stopwords(tokens):\n",
        "  stop_words=set(nltk.corpus.stopwords.words('english'))\n",
        "  return [word for word in tokens if word not in stop_words]\n",
        "def stem_words(tokens):\n",
        "  stemmer=nltk.stem.PorterStemmer()\n",
        "  return [stemmer.stem(word) for word in tokens]\n",
        "def lemmatizer_words(tokens):\n",
        "  lemmatizer=nltk.stem.WordNetLemmatizer()\n",
        "  return[lemmatizer.lemmatize(word) for word in tokens]\n"
      ],
      "metadata": {
        "id": "giQysOeljTI2"
      },
      "execution_count": 117,
      "outputs": []
    },
    {
      "cell_type": "code",
      "source": [
        "\"\"\"for word in tokens:\n",
        "if word not in stop_words:\n",
        "  print(word)\"\"\""
      ],
      "metadata": {
        "colab": {
          "base_uri": "https://localhost:8080/",
          "height": 35
        },
        "id": "m0WptNzcofbW",
        "outputId": "3962061b-fb4f-4e37-cbf5-33cde71ea312"
      },
      "execution_count": 118,
      "outputs": [
        {
          "output_type": "execute_result",
          "data": {
            "text/plain": [
              "'for word in tokens:\\nif word not in stop_words:\\n  print(word)'"
            ],
            "application/vnd.google.colaboratory.intrinsic+json": {
              "type": "string"
            }
          },
          "metadata": {},
          "execution_count": 118
        }
      ]
    },
    {
      "cell_type": "code",
      "source": [
        "def pos_tagging(tokens):\n",
        "  return nltk.pos_tag(tokens)\n",
        "\n"
      ],
      "metadata": {
        "id": "Prz8JAAOopyC"
      },
      "execution_count": 119,
      "outputs": []
    },
    {
      "cell_type": "code",
      "source": [
        "def named_entity_recognition(text):\n",
        "    tokens=tokenize_text(text)\n",
        "    pos_tags=pos_tagging(tokens)\n",
        "    return nltk.ne_chunk(pos_tags)"
      ],
      "metadata": {
        "id": "M_dtpYTnxClZ"
      },
      "execution_count": 120,
      "outputs": []
    },
    {
      "cell_type": "markdown",
      "source": [],
      "metadata": {
        "id": "QtmvqFVzxCdA"
      }
    },
    {
      "cell_type": "code",
      "source": [
        "import nltk\n",
        "nltk.download('punkt')"
      ],
      "metadata": {
        "colab": {
          "base_uri": "https://localhost:8080/"
        },
        "id": "JhA7OAWbrTYw",
        "outputId": "39d57a4c-e2c2-4e8d-ab87-4b060970d12c"
      },
      "execution_count": 121,
      "outputs": [
        {
          "output_type": "stream",
          "name": "stderr",
          "text": [
            "[nltk_data] Downloading package punkt to /root/nltk_data...\n",
            "[nltk_data]   Package punkt is already up-to-date!\n"
          ]
        },
        {
          "output_type": "execute_result",
          "data": {
            "text/plain": [
              "True"
            ]
          },
          "metadata": {},
          "execution_count": 121
        }
      ]
    },
    {
      "cell_type": "code",
      "source": [
        "nltk.download('averaged_perceptron_tagger')"
      ],
      "metadata": {
        "colab": {
          "base_uri": "https://localhost:8080/"
        },
        "id": "0QBQYfg_qN5e",
        "outputId": "8b29143b-45e6-489b-8ab0-9380660268fc"
      },
      "execution_count": 122,
      "outputs": [
        {
          "output_type": "stream",
          "name": "stderr",
          "text": [
            "[nltk_data] Downloading package averaged_perceptron_tagger to\n",
            "[nltk_data]     /root/nltk_data...\n",
            "[nltk_data]   Package averaged_perceptron_tagger is already up-to-\n",
            "[nltk_data]       date!\n"
          ]
        },
        {
          "output_type": "execute_result",
          "data": {
            "text/plain": [
              "True"
            ]
          },
          "metadata": {},
          "execution_count": 122
        }
      ]
    },
    {
      "cell_type": "code",
      "source": [],
      "metadata": {
        "id": "8Hpv8MRFwjEa"
      },
      "execution_count": 122,
      "outputs": []
    },
    {
      "cell_type": "code",
      "source": [
        "def named_entity_recognition(text):\n",
        "  pos_tags=pos_tagging(tokens)"
      ],
      "metadata": {
        "id": "rrAQiw2uwS7A"
      },
      "execution_count": 123,
      "outputs": []
    },
    {
      "cell_type": "code",
      "source": [
        "text_lower=lowercase_text(text)\n",
        "text_clean=remove_punctuation(text_lower)\n",
        "tokens=tokenize_text(text_clean)\n",
        "tokens_no_stopwords=remove_stopwords(tokens)\n",
        "tokens_stemmed=stem_words(tokens_no_stopwords)\n",
        "tokens_lemmatizer=lemmatizer_words(tokens_no_stopwords)\n",
        "pos_tags=pos_tagging(tokens_no_stopwords)\n",
        "named_entities=named_entity_recognition(text)\n"
      ],
      "metadata": {
        "id": "ADVbSm51pe3M"
      },
      "execution_count": 124,
      "outputs": []
    },
    {
      "cell_type": "code",
      "source": [
        "print(\"Loweredcase:\", text_lower)\n",
        "print(\"Cleanedtext:\", text_clean)\n",
        "print(\"tokens:\", tokens)\n",
        "print(\"tokens_no_stopwords:\", tokens_no_stopwords)\n",
        "print(\"tokens_stemmed:\", tokens_stemmed)\n",
        "print(\"tokens_lemmetizer:\", tokens_lemmatizer)\n",
        "print(\"pos_tags;\", pos_tags)\n",
        "print(\"named_entities:\", named_entities)"
      ],
      "metadata": {
        "colab": {
          "base_uri": "https://localhost:8080/"
        },
        "id": "P9Yth9nrxt99",
        "outputId": "8e4ca08c-2ace-408b-ebb8-2fa6de2756cd"
      },
      "execution_count": 125,
      "outputs": [
        {
          "output_type": "stream",
          "name": "stdout",
          "text": [
            "Loweredcase: he is dancing and playing\n",
            "Cleanedtext: he is dancing and playing\n",
            "tokens: ['he', 'is', 'dancing', 'and', 'playing']\n",
            "tokens_no_stopwords: ['dancing', 'playing']\n",
            "tokens_stemmed: ['danc', 'play']\n",
            "tokens_lemmetizer: ['dancing', 'playing']\n",
            "pos_tags; [('dancing', 'VBG'), ('playing', 'NN')]\n",
            "named_entities: None\n"
          ]
        }
      ]
    },
    {
      "cell_type": "code",
      "source": [],
      "metadata": {
        "id": "9Q8x4z8-y5eO"
      },
      "execution_count": null,
      "outputs": []
    }
  ]
}